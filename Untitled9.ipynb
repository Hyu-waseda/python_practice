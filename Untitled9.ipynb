{
 "cells": [
  {
   "cell_type": "code",
   "execution_count": 2,
   "id": "d78b3c59",
   "metadata": {},
   "outputs": [
    {
     "name": "stdout",
     "output_type": "stream",
     "text": [
      "Collecting quandl\n",
      "  Downloading Quandl-3.7.0-py2.py3-none-any.whl (26 kB)\n",
      "Requirement already satisfied: requests>=2.7.0 in /Users/okumurahyu/.venv/pylec/lib/python3.9/site-packages (from quandl) (2.26.0)\n",
      "Requirement already satisfied: pandas>=0.14 in /Users/okumurahyu/.venv/pylec/lib/python3.9/site-packages (from quandl) (1.3.4)\n",
      "Requirement already satisfied: python-dateutil in /Users/okumurahyu/.venv/pylec/lib/python3.9/site-packages (from quandl) (2.8.2)\n",
      "Collecting inflection>=0.3.1\n",
      "  Downloading inflection-0.5.1-py2.py3-none-any.whl (9.5 kB)\n",
      "Requirement already satisfied: six in /Users/okumurahyu/.venv/pylec/lib/python3.9/site-packages (from quandl) (1.16.0)\n",
      "Requirement already satisfied: numpy>=1.8 in /Users/okumurahyu/.venv/pylec/lib/python3.9/site-packages (from quandl) (1.19.3)\n",
      "Collecting more-itertools\n",
      "  Downloading more_itertools-8.13.0-py3-none-any.whl (51 kB)\n",
      "\u001b[2K     \u001b[90m━━━━━━━━━━━━━━━━━━━━━━━━━━━━━━━━━━━━━━━━\u001b[0m \u001b[32m51.6/51.6 kB\u001b[0m \u001b[31m1.6 MB/s\u001b[0m eta \u001b[36m0:00:00\u001b[0m\n",
      "\u001b[?25hRequirement already satisfied: pytz>=2017.3 in /Users/okumurahyu/.venv/pylec/lib/python3.9/site-packages (from pandas>=0.14->quandl) (2021.3)\n",
      "Requirement already satisfied: idna<4,>=2.5 in /Users/okumurahyu/.venv/pylec/lib/python3.9/site-packages (from requests>=2.7.0->quandl) (3.3)\n",
      "Requirement already satisfied: urllib3<1.27,>=1.21.1 in /Users/okumurahyu/.venv/pylec/lib/python3.9/site-packages (from requests>=2.7.0->quandl) (1.26.7)\n",
      "Requirement already satisfied: charset-normalizer~=2.0.0 in /Users/okumurahyu/.venv/pylec/lib/python3.9/site-packages (from requests>=2.7.0->quandl) (2.0.7)\n",
      "Requirement already satisfied: certifi>=2017.4.17 in /Users/okumurahyu/.venv/pylec/lib/python3.9/site-packages (from requests>=2.7.0->quandl) (2021.10.8)\n",
      "Installing collected packages: more-itertools, inflection, quandl\n",
      "Successfully installed inflection-0.5.1 more-itertools-8.13.0 quandl-3.7.0\n"
     ]
    }
   ],
   "source": [
    "!pip install quandl"
   ]
  },
  {
   "cell_type": "code",
   "execution_count": 3,
   "id": "4b382412",
   "metadata": {},
   "outputs": [],
   "source": [
    "import os\n",
    "import numpy as np\n",
    "import pandas as pd\n",
    "import pickle\n",
    "import quandl\n",
    "from datetime import datetime"
   ]
  },
  {
   "cell_type": "code",
   "execution_count": 5,
   "id": "7789fe42",
   "metadata": {},
   "outputs": [
    {
     "name": "stdout",
     "output_type": "stream",
     "text": [
      "Collecting plotly\n",
      "  Downloading plotly-5.9.0-py2.py3-none-any.whl (15.2 MB)\n",
      "\u001b[2K     \u001b[90m━━━━━━━━━━━━━━━━━━━━━━━━━━━━━━━━━━━━━━━━\u001b[0m \u001b[32m15.2/15.2 MB\u001b[0m \u001b[31m4.5 MB/s\u001b[0m eta \u001b[36m0:00:00\u001b[0m00:01\u001b[0m00:01\u001b[0m\n",
      "\u001b[?25hCollecting tenacity>=6.2.0\n",
      "  Downloading tenacity-8.0.1-py3-none-any.whl (24 kB)\n",
      "Installing collected packages: tenacity, plotly\n",
      "Successfully installed plotly-5.9.0 tenacity-8.0.1\n"
     ]
    }
   ],
   "source": [
    "!pip install plotly"
   ]
  },
  {
   "cell_type": "code",
   "execution_count": 6,
   "id": "c92e635b",
   "metadata": {},
   "outputs": [
    {
     "data": {
      "text/html": [
       "        <script type=\"text/javascript\">\n",
       "        window.PlotlyConfig = {MathJaxConfig: 'local'};\n",
       "        if (window.MathJax && window.MathJax.Hub && window.MathJax.Hub.Config) {window.MathJax.Hub.Config({SVG: {font: \"STIX-Web\"}});}\n",
       "        if (typeof require !== 'undefined') {\n",
       "        require.undef(\"plotly\");\n",
       "        requirejs.config({\n",
       "            paths: {\n",
       "                'plotly': ['https://cdn.plot.ly/plotly-2.12.1.min']\n",
       "            }\n",
       "        });\n",
       "        require(['plotly'], function(Plotly) {\n",
       "            window._Plotly = Plotly;\n",
       "        });\n",
       "        }\n",
       "        </script>\n",
       "        "
      ]
     },
     "metadata": {},
     "output_type": "display_data"
    }
   ],
   "source": [
    "import plotly.offline as py\n",
    "import plotly.graph_objs as go\n",
    "import plotly.figure_factory as ff\n",
    "py.init_notebook_mode(connected=True)"
   ]
  },
  {
   "cell_type": "code",
   "execution_count": 7,
   "id": "79e47e3a",
   "metadata": {},
   "outputs": [],
   "source": [
    "def get_quandl_data(quandl_id):\n",
    "    ''' Quandlの時系列データのキャッシュを取得'''\n",
    "    cache_path = '{}.pkl'.format(quandl_id).replace('/','-')\n",
    "    try:\n",
    "        f = open(cache_path, 'rb')\n",
    "        df = pickle.load(f)   \n",
    "        print('Loaded {} from cache'.format(quandl_id))\n",
    "    except (OSError, IOError) as e:\n",
    "        print('Downloading {} from Quandl'.format(quandl_id))\n",
    "        df = quandl.get(quandl_id, returns=\"pandas\")\n",
    "        df.to_pickle(cache_path)\n",
    "        print('Cached {} at {}'.format(quandl_id, cache_path))\n",
    "    return df"
   ]
  },
  {
   "cell_type": "code",
   "execution_count": 8,
   "id": "a7e98b86",
   "metadata": {},
   "outputs": [
    {
     "name": "stdout",
     "output_type": "stream",
     "text": [
      "Downloading BCHARTS/KRAKENUSD from Quandl\n",
      "Cached BCHARTS/KRAKENUSD at BCHARTS-KRAKENUSD.pkl\n"
     ]
    }
   ],
   "source": [
    "btc_usd_price_kraken = get_quandl_data('BCHARTS/KRAKENUSD')\n",
    "\n",
    "#Downloading BCHARTS/KRAKENUSD from Quandl\n",
    "#Cached BCHARTS/KRAKENUSD at BCHARTS-KRAKENUSD.pkl"
   ]
  },
  {
   "cell_type": "code",
   "execution_count": 13,
   "id": "cebe07e3",
   "metadata": {},
   "outputs": [
    {
     "name": "stdout",
     "output_type": "stream",
     "text": [
      "\u001b[31m00.sh\u001b[m\u001b[m\r\n",
      "0101.py\r\n",
      "0102.py\r\n",
      "0201.py\r\n",
      "0203.py\r\n",
      "0204.py\r\n",
      "0206.py\r\n",
      "0207.py\r\n",
      "0208.py\r\n",
      "03.py\r\n",
      "0301.py\r\n",
      "0302.py\r\n",
      "0306.py\r\n",
      "0308.py\r\n",
      "0310.py\r\n",
      "04.py\r\n",
      "05.py\r\n",
      "0501.py\r\n",
      "0502.py\r\n",
      "0504.py\r\n",
      "06.py\r\n",
      "0601.py\r\n",
      "0602.py\r\n",
      "0605.py\r\n",
      "0608.py\r\n",
      "07.py\r\n",
      "0701.py\r\n",
      "0704.py\r\n",
      "08.jupyter\r\n",
      "08.py\r\n",
      "09.py\r\n",
      "10.py\r\n",
      "1001.py\r\n",
      "1002.py\r\n",
      "1003.py\r\n",
      "1005.py\r\n",
      "1006.py\r\n",
      "11.py\r\n",
      "1101.html\r\n",
      "1102a.html\r\n",
      "1102b.html\r\n",
      "1103.py\r\n",
      "1104.py\r\n",
      "1105.py\r\n",
      "1106.py\r\n",
      "1106a.tpl\r\n",
      "1107.py\r\n",
      "1109.py\r\n",
      "\u001b[34m12\u001b[m\u001b[m\r\n",
      "BCHARTS-KRAKENUSD.pkl\r\n",
      "Untitled.ipynb\r\n",
      "Untitled1.ipynb\r\n",
      "Untitled2.ipynb\r\n",
      "Untitled3.ipynb\r\n",
      "Untitled4.ipynb\r\n",
      "Untitled5.ipynb\r\n",
      "Untitled6.ipynb\r\n",
      "Untitled7.ipynb\r\n",
      "Untitled8.ipynb\r\n",
      "Untitled9.ipynb\r\n",
      "a.csv\r\n",
      "b.csv\r\n",
      "c.csv\r\n",
      "\u001b[34mcircle\u001b[m\u001b[m\r\n",
      "\u001b[34mcount\u001b[m\u001b[m\r\n",
      "\u001b[34mdata\u001b[m\u001b[m\r\n",
      "data.csv\r\n",
      "data.txt\r\n",
      "data2.txt\r\n",
      "\u001b[34mdb\u001b[m\u001b[m\r\n",
      "\u001b[34mdbcircle\u001b[m\u001b[m\r\n",
      "\u001b[34mdbcount\u001b[m\u001b[m\r\n",
      "\u001b[34mdbreserve\u001b[m\u001b[m\r\n",
      "\u001b[34mdbuser\u001b[m\u001b[m\r\n",
      "\u001b[34mdon't touch\u001b[m\u001b[m\r\n",
      "emp-dept.sql\r\n",
      "enshu09.py\r\n",
      "\u001b[34mfinal-report\u001b[m\u001b[m\r\n",
      "\u001b[34mfinal-report copy\u001b[m\u001b[m\r\n",
      "final-report.zip\r\n",
      "finaltask.py\r\n",
      "\u001b[34mgithub\u001b[m\u001b[m\r\n",
      "hoge.zip\r\n",
      "imagenet1000_clsidx_to_labels.\r\n",
      "imagenet1000_clsidx_to_labels.txt\r\n",
      "imagenet1000_clsidx_to_labels.webarchive\r\n",
      "mod0502.py\r\n",
      "mod0502.pyc\r\n",
      "mynabi\r\n",
      "\u001b[34mnikkei\u001b[m\u001b[m\r\n",
      "nikkei_stock_average_daily_jp.csv\r\n",
      "sample.jpg\r\n",
      "sample.json\r\n",
      "sample1.txt\r\n",
      "sqlite.db\r\n",
      "\u001b[34mstatic\u001b[m\u001b[m\r\n",
      "student.csv\r\n",
      "tempCodeRunnerFile.py\r\n",
      "tempCodeRunnerFile.sh\r\n",
      "\u001b[34mtest\u001b[m\u001b[m\r\n",
      "test.py\r\n",
      "test1.py\r\n",
      "test10.py\r\n",
      "test11.py\r\n",
      "test12.py\r\n",
      "test13.py\r\n",
      "test14.py\r\n",
      "test15.py\r\n",
      "test2.py\r\n",
      "test3 copy.py\r\n",
      "test3.py\r\n",
      "test4.py\r\n",
      "test5.py\r\n",
      "test6.py\r\n",
      "test7.py\r\n",
      "test8.py\r\n",
      "test9.py\r\n",
      "tyukan1.py\r\n",
      "tyukan2.py\r\n",
      "untitled.txt\r\n",
      "winequality-red.csv\r\n",
      "winequality-white.csv\r\n",
      "\u001b[34m授業\u001b[m\u001b[m\r\n"
     ]
    }
   ],
   "source": [
    "!ls"
   ]
  },
  {
   "cell_type": "code",
   "execution_count": null,
   "id": "04a50fc3",
   "metadata": {},
   "outputs": [],
   "source": []
  }
 ],
 "metadata": {
  "kernelspec": {
   "display_name": "Python 3 (ipykernel)",
   "language": "python",
   "name": "python3"
  },
  "language_info": {
   "codemirror_mode": {
    "name": "ipython",
    "version": 3
   },
   "file_extension": ".py",
   "mimetype": "text/x-python",
   "name": "python",
   "nbconvert_exporter": "python",
   "pygments_lexer": "ipython3",
   "version": "3.9.13"
  }
 },
 "nbformat": 4,
 "nbformat_minor": 5
}
