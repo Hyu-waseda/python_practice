{
 "cells": [
  {
   "cell_type": "code",
   "execution_count": 17,
   "id": "0c0e7b42",
   "metadata": {},
   "outputs": [],
   "source": [
    "import numpy as np"
   ]
  },
  {
   "cell_type": "code",
   "execution_count": 18,
   "id": "ae0f9229",
   "metadata": {},
   "outputs": [],
   "source": [
    "A = np.array([[1,2],\n",
    "              [3,4]])"
   ]
  },
  {
   "cell_type": "code",
   "execution_count": 19,
   "id": "3a45837d",
   "metadata": {},
   "outputs": [
    {
     "name": "stdout",
     "output_type": "stream",
     "text": [
      "[[1 2]\n",
      " [3 4]]\n"
     ]
    }
   ],
   "source": [
    "print(A)"
   ]
  },
  {
   "cell_type": "code",
   "execution_count": 20,
   "id": "6c9ef263",
   "metadata": {},
   "outputs": [],
   "source": [
    "B = np.array([[5,6],\n",
    "              [7,8]])"
   ]
  },
  {
   "cell_type": "code",
   "execution_count": 21,
   "id": "955112be",
   "metadata": {},
   "outputs": [
    {
     "data": {
      "text/plain": [
       "array([[ 6,  8],\n",
       "       [10, 12]])"
      ]
     },
     "execution_count": 21,
     "metadata": {},
     "output_type": "execute_result"
    }
   ],
   "source": [
    "A+B"
   ]
  },
  {
   "cell_type": "code",
   "execution_count": 22,
   "id": "179d3cca",
   "metadata": {},
   "outputs": [],
   "source": [
    "C = A+B"
   ]
  },
  {
   "cell_type": "code",
   "execution_count": 23,
   "id": "fcebe929",
   "metadata": {},
   "outputs": [
    {
     "name": "stdout",
     "output_type": "stream",
     "text": [
      "[[ 6  8]\n",
      " [10 12]]\n"
     ]
    }
   ],
   "source": [
    "print(C)"
   ]
  },
  {
   "cell_type": "code",
   "execution_count": 24,
   "id": "c4935964",
   "metadata": {},
   "outputs": [
    {
     "data": {
      "text/plain": [
       "array([[19, 22],\n",
       "       [43, 50]])"
      ]
     },
     "execution_count": 24,
     "metadata": {},
     "output_type": "execute_result"
    }
   ],
   "source": [
    "#行列の積を求める\n",
    "A @ B"
   ]
  },
  {
   "cell_type": "code",
   "execution_count": 29,
   "id": "0ae76810",
   "metadata": {},
   "outputs": [],
   "source": [
    "A = np.array([[2,1,-3],\n",
    "                [-1,2,1],\n",
    "                [3,2,1]])"
   ]
  },
  {
   "cell_type": "code",
   "execution_count": 32,
   "id": "c67529ec",
   "metadata": {},
   "outputs": [
    {
     "name": "stdout",
     "output_type": "stream",
     "text": [
      "[[ 0.         -0.25        0.25      ]\n",
      " [ 0.14285714  0.39285714  0.03571429]\n",
      " [-0.28571429 -0.03571429  0.17857143]]\n"
     ]
    }
   ],
   "source": [
    "#Aの逆行列を求める\n",
    "A_inv = np.linalg.inv(A)\n",
    "print(A_inv)"
   ]
  },
  {
   "cell_type": "code",
   "execution_count": 33,
   "id": "dc569f3d",
   "metadata": {},
   "outputs": [
    {
     "data": {
      "text/plain": [
       "array([[1.00000000e+00, 2.08166817e-17, 5.55111512e-17],\n",
       "       [0.00000000e+00, 1.00000000e+00, 0.00000000e+00],\n",
       "       [0.00000000e+00, 1.04083409e-16, 1.00000000e+00]])"
      ]
     },
     "execution_count": 33,
     "metadata": {},
     "output_type": "execute_result"
    }
   ],
   "source": [
    "A @ A_inv"
   ]
  },
  {
   "cell_type": "code",
   "execution_count": 41,
   "id": "8b4014b6",
   "metadata": {},
   "outputs": [],
   "source": [
    "A = np.array([[1,3,7],\n",
    "              [2,1,4],\n",
    "              [5,2,9]])"
   ]
  },
  {
   "cell_type": "code",
   "execution_count": 42,
   "id": "378ba9bf",
   "metadata": {},
   "outputs": [
    {
     "data": {
      "text/plain": [
       "array([[-0.26068376,  0.05555556,  0.1965812 ],\n",
       "       [ 0.18119658, -0.02222222, -0.09401709],\n",
       "       [ 0.1017094 ,  0.01111111,  0.00854701]])"
      ]
     },
     "execution_count": 42,
     "metadata": {},
     "output_type": "execute_result"
    }
   ],
   "source": [
    "#Aの逆行列を求める\n",
    "#A_inv = np.linalg.inv(A)\n",
    "#print(A_inv)\n",
    "np.linalg.pinv(A)"
   ]
  },
  {
   "cell_type": "code",
   "execution_count": 44,
   "id": "74708cd0",
   "metadata": {},
   "outputs": [
    {
     "data": {
      "text/plain": [
       "array([[-1.57142857,  0.67857143,  1.60714286],\n",
       "       [-1.        , -0.25      ,  1.25      ],\n",
       "       [-2.28571429, -0.78571429,  2.92857143]])"
      ]
     },
     "execution_count": 44,
     "metadata": {},
     "output_type": "execute_result"
    }
   ],
   "source": [
    "A @ A_inv"
   ]
  },
  {
   "cell_type": "code",
   "execution_count": 47,
   "id": "7c816a9c",
   "metadata": {},
   "outputs": [
    {
     "name": "stdout",
     "output_type": "stream",
     "text": [
      "0.0\n"
     ]
    }
   ],
   "source": [
    "det_A = np.linalg.det(A)\n",
    "print(det_A)"
   ]
  },
  {
   "cell_type": "code",
   "execution_count": 49,
   "id": "ae7ea16c",
   "metadata": {},
   "outputs": [
    {
     "name": "stdout",
     "output_type": "stream",
     "text": [
      "(array([ 1., 14.]), array([[-0.9701425 , -0.31622777],\n",
      "       [ 0.24253563, -0.9486833 ]]))\n"
     ]
    }
   ],
   "source": [
    "#固有ベクトル\n",
    "A = [[2,4],[3,13]]\n",
    "eig_A = np.linalg.eig(A)\n",
    "print(eig_A)"
   ]
  },
  {
   "cell_type": "code",
   "execution_count": null,
   "id": "8642d1f8",
   "metadata": {},
   "outputs": [],
   "source": []
  }
 ],
 "metadata": {
  "kernelspec": {
   "display_name": "Python 3 (ipykernel)",
   "language": "python",
   "name": "python3"
  },
  "language_info": {
   "codemirror_mode": {
    "name": "ipython",
    "version": 3
   },
   "file_extension": ".py",
   "mimetype": "text/x-python",
   "name": "python",
   "nbconvert_exporter": "python",
   "pygments_lexer": "ipython3",
   "version": "3.9.10"
  }
 },
 "nbformat": 4,
 "nbformat_minor": 5
}
